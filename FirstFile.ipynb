{
 "cells": [
  {
   "cell_type": "code",
   "execution_count": 1,
   "id": "5f3098f0",
   "metadata": {},
   "outputs": [
    {
     "name": "stdout",
     "output_type": "stream",
     "text": [
      "Hello World\n"
     ]
    }
   ],
   "source": [
    "print(\"Hello World\")"
   ]
  },
  {
   "cell_type": "code",
   "execution_count": 3,
   "id": "325c3728",
   "metadata": {},
   "outputs": [
    {
     "name": "stdout",
     "output_type": "stream",
     "text": [
      "Hey all, Vanshaj this side.\n"
     ]
    }
   ],
   "source": [
    "print(\"Hey all, Vanshaj this side.\")"
   ]
  },
  {
   "cell_type": "code",
   "execution_count": 5,
   "id": "f67f5548",
   "metadata": {},
   "outputs": [
    {
     "ename": "NameError",
     "evalue": "name 'Print' is not defined",
     "output_type": "error",
     "traceback": [
      "\u001b[1;31m---------------------------------------------------------------------------\u001b[0m",
      "\u001b[1;31mNameError\u001b[0m                                 Traceback (most recent call last)",
      "Input \u001b[1;32mIn [5]\u001b[0m, in \u001b[0;36m<cell line: 1>\u001b[1;34m()\u001b[0m\n\u001b[1;32m----> 1\u001b[0m \u001b[43mPrint\u001b[49m(\u001b[38;5;124m\"\u001b[39m\u001b[38;5;124mHello World\u001b[39m\u001b[38;5;124m\"\u001b[39m)\n",
      "\u001b[1;31mNameError\u001b[0m: name 'Print' is not defined"
     ]
    }
   ],
   "source": [
    "print(\"Hello World\")"
   ]
  },
  {
   "cell_type": "markdown",
   "id": "8ee8815b",
   "metadata": {},
   "source": [
    "### It should be written as print not Print"
   ]
  },
  {
   "cell_type": "markdown",
   "id": "6c43bd2a",
   "metadata": {},
   "source": [
    "#### It should be written as print not Print"
   ]
  },
  {
   "cell_type": "markdown",
   "id": "8d774e12",
   "metadata": {},
   "source": [
    "## It should be written as print not Print"
   ]
  },
  {
   "cell_type": "code",
   "execution_count": 7,
   "id": "77600b4a",
   "metadata": {},
   "outputs": [
    {
     "name": "stdout",
     "output_type": "stream",
     "text": [
      "Hey all, Vanshaj this side.\n"
     ]
    }
   ],
   "source": [
    "print(\"Hey all, Vanshaj this side.\")"
   ]
  },
  {
   "cell_type": "markdown",
   "id": "886cc7a3",
   "metadata": {},
   "source": [
    "## a : above new cell updated , b for below ,x for deletion"
   ]
  },
  {
   "cell_type": "markdown",
   "id": "becc19d4",
   "metadata": {},
   "source": [
    "## 2 times d i.e dd for deletion too"
   ]
  },
  {
   "cell_type": "code",
   "execution_count": 8,
   "id": "9810cc7a",
   "metadata": {},
   "outputs": [
    {
     "name": "stdout",
     "output_type": "stream",
     "text": [
      "100\n"
     ]
    }
   ],
   "source": [
    "x=100\n",
    "print(x)"
   ]
  },
  {
   "cell_type": "code",
   "execution_count": 9,
   "id": "44ff64c2",
   "metadata": {},
   "outputs": [
    {
     "data": {
      "text/plain": [
       "int"
      ]
     },
     "execution_count": 9,
     "metadata": {},
     "output_type": "execute_result"
    }
   ],
   "source": [
    "type(x)"
   ]
  },
  {
   "cell_type": "code",
   "execution_count": 10,
   "id": "e72f7457",
   "metadata": {},
   "outputs": [
    {
     "data": {
      "text/plain": [
       "100"
      ]
     },
     "execution_count": 10,
     "metadata": {},
     "output_type": "execute_result"
    }
   ],
   "source": [
    "x=100\n",
    "x"
   ]
  },
  {
   "cell_type": "code",
   "execution_count": 11,
   "id": "27cf3db0",
   "metadata": {},
   "outputs": [
    {
     "data": {
      "text/plain": [
       "float"
      ]
     },
     "execution_count": 11,
     "metadata": {},
     "output_type": "execute_result"
    }
   ],
   "source": [
    "g=112.56\n",
    "type(g)"
   ]
  },
  {
   "cell_type": "code",
   "execution_count": 12,
   "id": "a2261813",
   "metadata": {},
   "outputs": [
    {
     "data": {
      "text/plain": [
       "str"
      ]
     },
     "execution_count": 12,
     "metadata": {},
     "output_type": "execute_result"
    }
   ],
   "source": [
    "course='Analytics'\n",
    "type(course)"
   ]
  },
  {
   "cell_type": "markdown",
   "id": "277a080a",
   "metadata": {},
   "source": [
    "## While defining string , Single or Double inverted commas should be used "
   ]
  },
  {
   "cell_type": "code",
   "execution_count": 13,
   "id": "a0c0b17c",
   "metadata": {},
   "outputs": [
    {
     "data": {
      "text/plain": [
       "bool"
      ]
     },
     "execution_count": 13,
     "metadata": {},
     "output_type": "execute_result"
    }
   ],
   "source": [
    "z=True\n",
    "type(z)"
   ]
  },
  {
   "cell_type": "markdown",
   "id": "e72164e3",
   "metadata": {},
   "source": [
    "## T of true and F of false should be uppercase only"
   ]
  },
  {
   "cell_type": "markdown",
   "id": "35710208",
   "metadata": {},
   "source": [
    "# Rules for Naming the Variables :-"
   ]
  },
  {
   "cell_type": "code",
   "execution_count": 15,
   "id": "c8e38d75",
   "metadata": {},
   "outputs": [
    {
     "data": {
      "text/plain": [
       "('Vanshaj', 'Gupta')"
      ]
     },
     "execution_count": 15,
     "metadata": {},
     "output_type": "execute_result"
    }
   ],
   "source": [
    "name_list=\"Vanshaj\",\"Gupta\"\n",
    "name_list"
   ]
  },
  {
   "cell_type": "markdown",
   "id": "490eb89d",
   "metadata": {},
   "source": [
    "#### 1. Variable name should start from A-Z , a-z , and '_'\n",
    "#### 2. Variable name should not start with a number .\n",
    "#### 3. Space is not allowed while defining variable name .\n",
    "#### 4. Only allowed special character is '_' .\n",
    "#### 5. Case Sensitive"
   ]
  },
  {
   "cell_type": "markdown",
   "id": "a9cbefb7",
   "metadata": {},
   "source": [
    "### Data Structures :"
   ]
  },
  {
   "cell_type": "code",
   "execution_count": null,
   "id": "31d3460b",
   "metadata": {},
   "outputs": [],
   "source": []
  }
 ],
 "metadata": {
  "kernelspec": {
   "display_name": "Python 3 (ipykernel)",
   "language": "python",
   "name": "python3"
  },
  "language_info": {
   "codemirror_mode": {
    "name": "ipython",
    "version": 3
   },
   "file_extension": ".py",
   "mimetype": "text/x-python",
   "name": "python",
   "nbconvert_exporter": "python",
   "pygments_lexer": "ipython3",
   "version": "3.9.12"
  }
 },
 "nbformat": 4,
 "nbformat_minor": 5
}
