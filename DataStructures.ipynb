{
 "cells": [
  {
   "cell_type": "markdown",
   "id": "a7f090ae",
   "metadata": {},
   "source": [
    "## Data Structures :-"
   ]
  },
  {
   "cell_type": "code",
   "execution_count": 1,
   "id": "e15edcb7",
   "metadata": {},
   "outputs": [
    {
     "data": {
      "text/plain": [
       "[1, 2, 3, 4, 5, 6, 7, 8, 9, 'hi', True]"
      ]
     },
     "execution_count": 1,
     "metadata": {},
     "output_type": "execute_result"
    }
   ],
   "source": [
    "my_list=[1,2,3,4,5,6,7,8,9,\"hi\",True]\n",
    "my_list"
   ]
  },
  {
   "cell_type": "code",
   "execution_count": 2,
   "id": "cb411376",
   "metadata": {},
   "outputs": [
    {
     "data": {
      "text/plain": [
       "list"
      ]
     },
     "execution_count": 2,
     "metadata": {},
     "output_type": "execute_result"
    }
   ],
   "source": [
    "type(my_list)"
   ]
  },
  {
   "cell_type": "code",
   "execution_count": 3,
   "id": "14b45651",
   "metadata": {},
   "outputs": [
    {
     "data": {
      "text/plain": [
       "6"
      ]
     },
     "execution_count": 3,
     "metadata": {},
     "output_type": "execute_result"
    }
   ],
   "source": [
    "my_list[5]"
   ]
  },
  {
   "cell_type": "markdown",
   "id": "70f0626f",
   "metadata": {},
   "source": [
    "#### List is heterogenous - allowing all datatypes \n",
    "#### Square Brackets (list is written b/w)"
   ]
  },
  {
   "cell_type": "markdown",
   "id": "56f95186",
   "metadata": {},
   "source": [
    "#### Index of list starts from zero ( 0 )"
   ]
  },
  {
   "cell_type": "markdown",
   "id": "def8a488",
   "metadata": {},
   "source": [
    "## Tuple :"
   ]
  },
  {
   "cell_type": "code",
   "execution_count": 4,
   "id": "f62f784d",
   "metadata": {},
   "outputs": [
    {
     "data": {
      "text/plain": [
       "(1, 2, 2, 4, 1.25, 'hi', True)"
      ]
     },
     "execution_count": 4,
     "metadata": {},
     "output_type": "execute_result"
    }
   ],
   "source": [
    "my_tuple=(1,2,2,4,1.25,'hi',True)\n",
    "my_tuple"
   ]
  },
  {
   "cell_type": "code",
   "execution_count": 5,
   "id": "4cd63ede",
   "metadata": {},
   "outputs": [
    {
     "ename": "TypeError",
     "evalue": "'tuple' object is not callable",
     "output_type": "error",
     "traceback": [
      "\u001b[1;31m---------------------------------------------------------------------------\u001b[0m",
      "\u001b[1;31mTypeError\u001b[0m                                 Traceback (most recent call last)",
      "Input \u001b[1;32mIn [5]\u001b[0m, in \u001b[0;36m<cell line: 1>\u001b[1;34m()\u001b[0m\n\u001b[1;32m----> 1\u001b[0m \u001b[43mmy_tuple\u001b[49m\u001b[43m(\u001b[49m\u001b[38;5;241;43m2\u001b[39;49m\u001b[43m)\u001b[49m\n",
      "\u001b[1;31mTypeError\u001b[0m: 'tuple' object is not callable"
     ]
    }
   ],
   "source": [
    "my_tuple(2)"
   ]
  },
  {
   "cell_type": "markdown",
   "id": "a36d8721",
   "metadata": {},
   "source": [
    "#### 1. Tupple is heterogenous\n",
    "#### 2. Retrieve elements from index.\n",
    "#### 3. Tupple is immutable - We cannot make changes ."
   ]
  },
  {
   "cell_type": "code",
   "execution_count": null,
   "id": "e0a3dba6",
   "metadata": {},
   "outputs": [],
   "source": []
  }
 ],
 "metadata": {
  "kernelspec": {
   "display_name": "Python 3 (ipykernel)",
   "language": "python",
   "name": "python3"
  },
  "language_info": {
   "codemirror_mode": {
    "name": "ipython",
    "version": 3
   },
   "file_extension": ".py",
   "mimetype": "text/x-python",
   "name": "python",
   "nbconvert_exporter": "python",
   "pygments_lexer": "ipython3",
   "version": "3.9.12"
  }
 },
 "nbformat": 4,
 "nbformat_minor": 5
}
